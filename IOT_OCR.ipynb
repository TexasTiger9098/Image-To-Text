{
  "nbformat": 4,
  "nbformat_minor": 0,
  "metadata": {
    "kernelspec": {
      "display_name": "Python 3",
      "language": "python",
      "name": "python3"
    },
    "language_info": {
      "codemirror_mode": {
        "name": "ipython",
        "version": 3
      },
      "file_extension": ".py",
      "mimetype": "text/x-python",
      "name": "python",
      "nbconvert_exporter": "python",
      "pygments_lexer": "ipython3",
      "version": "3.6.5"
    },
    "colab": {
      "name": "IOT_OCR.ipynb",
      "provenance": [],
      "include_colab_link": true
    },
    "accelerator": "GPU"
  },
  "cells": [
    {
      "cell_type": "markdown",
      "metadata": {
        "id": "view-in-github",
        "colab_type": "text"
      },
      "source": [
        "<a href=\"https://colab.research.google.com/github/TexasTiger9098/Image-To-Text/blob/main/IOT_OCR.ipynb\" target=\"_parent\"><img src=\"https://colab.research.google.com/assets/colab-badge.svg\" alt=\"Open In Colab\"/></a>"
      ]
    },
    {
      "cell_type": "markdown",
      "metadata": {
        "id": "VAQACrv7tvmz"
      },
      "source": [
        "IOT And Computer Vision Intern     \r\n",
        "\r\n",
        "vishesh kumar mishra \r\n",
        "\r\n",
        "GRIP2021-JANUNARY"
      ]
    },
    {
      "cell_type": "code",
      "metadata": {
        "colab": {
          "base_uri": "https://localhost:8080/"
        },
        "id": "a1ZCnP99rbDq",
        "outputId": "e2087a30-838d-4a36-e68a-56b6e6d25e6c"
      },
      "source": [
        "pip install easyocr "
      ],
      "execution_count": 10,
      "outputs": [
        {
          "output_type": "stream",
          "text": [
            "Requirement already satisfied: easyocr in /usr/local/lib/python3.6/dist-packages (1.2.4)\n",
            "Requirement already satisfied: scikit-image in /usr/local/lib/python3.6/dist-packages (from easyocr) (0.16.2)\n",
            "Requirement already satisfied: numpy in /usr/local/lib/python3.6/dist-packages (from easyocr) (1.19.5)\n",
            "Requirement already satisfied: python-bidi in /usr/local/lib/python3.6/dist-packages (from easyocr) (0.4.2)\n",
            "Requirement already satisfied: opencv-python in /usr/local/lib/python3.6/dist-packages (from easyocr) (4.1.2.30)\n",
            "Requirement already satisfied: torch in /usr/local/lib/python3.6/dist-packages (from easyocr) (1.7.0+cu101)\n",
            "Requirement already satisfied: scipy in /usr/local/lib/python3.6/dist-packages (from easyocr) (1.4.1)\n",
            "Requirement already satisfied: torchvision>=0.5 in /usr/local/lib/python3.6/dist-packages (from easyocr) (0.8.1+cu101)\n",
            "Requirement already satisfied: Pillow in /usr/local/lib/python3.6/dist-packages (from easyocr) (7.0.0)\n",
            "Requirement already satisfied: PyYAML in /usr/local/lib/python3.6/dist-packages (from easyocr) (3.13)\n",
            "Requirement already satisfied: networkx>=2.0 in /usr/local/lib/python3.6/dist-packages (from scikit-image->easyocr) (2.5)\n",
            "Requirement already satisfied: matplotlib!=3.0.0,>=2.0.0 in /usr/local/lib/python3.6/dist-packages (from scikit-image->easyocr) (3.2.2)\n",
            "Requirement already satisfied: PyWavelets>=0.4.0 in /usr/local/lib/python3.6/dist-packages (from scikit-image->easyocr) (1.1.1)\n",
            "Requirement already satisfied: imageio>=2.3.0 in /usr/local/lib/python3.6/dist-packages (from scikit-image->easyocr) (2.4.1)\n",
            "Requirement already satisfied: six in /usr/local/lib/python3.6/dist-packages (from python-bidi->easyocr) (1.15.0)\n",
            "Requirement already satisfied: future in /usr/local/lib/python3.6/dist-packages (from torch->easyocr) (0.16.0)\n",
            "Requirement already satisfied: typing-extensions in /usr/local/lib/python3.6/dist-packages (from torch->easyocr) (3.7.4.3)\n",
            "Requirement already satisfied: dataclasses in /usr/local/lib/python3.6/dist-packages (from torch->easyocr) (0.8)\n",
            "Requirement already satisfied: decorator>=4.3.0 in /usr/local/lib/python3.6/dist-packages (from networkx>=2.0->scikit-image->easyocr) (4.4.2)\n",
            "Requirement already satisfied: kiwisolver>=1.0.1 in /usr/local/lib/python3.6/dist-packages (from matplotlib!=3.0.0,>=2.0.0->scikit-image->easyocr) (1.3.1)\n",
            "Requirement already satisfied: python-dateutil>=2.1 in /usr/local/lib/python3.6/dist-packages (from matplotlib!=3.0.0,>=2.0.0->scikit-image->easyocr) (2.8.1)\n",
            "Requirement already satisfied: pyparsing!=2.0.4,!=2.1.2,!=2.1.6,>=2.0.1 in /usr/local/lib/python3.6/dist-packages (from matplotlib!=3.0.0,>=2.0.0->scikit-image->easyocr) (2.4.7)\n",
            "Requirement already satisfied: cycler>=0.10 in /usr/local/lib/python3.6/dist-packages (from matplotlib!=3.0.0,>=2.0.0->scikit-image->easyocr) (0.10.0)\n"
          ],
          "name": "stdout"
        }
      ]
    },
    {
      "cell_type": "code",
      "metadata": {
        "id": "OjOgLjMAqcsm"
      },
      "source": [
        "import easyocr"
      ],
      "execution_count": 11,
      "outputs": []
    },
    {
      "cell_type": "code",
      "metadata": {
        "id": "FvyWE8yDqcte"
      },
      "source": [
        "#download the model\n",
        "read = easyocr.Reader(['en'], gpu = True)"
      ],
      "execution_count": 12,
      "outputs": []
    },
    {
      "cell_type": "code",
      "metadata": {
        "colab": {
          "base_uri": "https://localhost:8080/",
          "height": 548
        },
        "id": "kgIpjDA4qcto",
        "outputId": "2e98cbe9-8322-4211-cb6d-e5326624c984"
      },
      "source": [
        "# show an image\n",
        "import PIL\n",
        "from PIL import ImageDraw\n",
        "img = PIL.Image.open(\"invoice1.png\")\n",
        "#img = PIL.Image.open(\"france.jfif\")\n",
        "\n",
        "img"
      ],
      "execution_count": 14,
      "outputs": [
        {
          "output_type": "execute_result",
          "data": {
            "image/png": "[encoded data removed]",
            "text/plain": [
              "<PIL.PngImagePlugin.PngImageFile image mode=RGBA size=820x531 at 0x7F1A7C7A7EF0>"
            ]
          },
          "metadata": {
            "tags": []
          },
          "execution_count": 14
        }
      ]
    },
    {
      "cell_type": "code",
      "metadata": {
        "id": "tZxu1KK2qctr"
      },
      "source": [
        ""
      ],
      "execution_count": null,
      "outputs": []
    },
    {
      "cell_type": "code",
      "metadata": {
        "colab": {
          "base_uri": "https://localhost:8080/"
        },
        "id": "MG28JsFOqctt",
        "outputId": "883ca75d-7530-4e18-a135-f710897a96c1"
      },
      "source": [
        "# Doing OCR. Get bounding boxes.\n",
        "bounds = read.readtext('invoice1.png')\n",
        "bounds"
      ],
      "execution_count": 15,
      "outputs": [
        {
          "output_type": "execute_result",
          "data": {
            "text/plain": [
              "[([[52, 71], [324, 71], [324, 104], [52, 104]],\n",
              "  'COMPANY NAME',\n",
              "  0.3652687966823578),\n",
              " ([[593, 97], [675, 97], [675, 111], [593, 111]],\n",
              "  'Street Address',\n",
              "  0.43673720955848694),\n",
              " ([[593, 111], [695, 111], [695, 127], [593, 127]],\n",
              "  'Citj, ST ZIP Code',\n",
              "  0.2030489593744278),\n",
              " ([[591, 129], [629, 129], [629, 143], [591, 143]],\n",
              "  'Email',\n",
              "  0.890809178352356),\n",
              " ([[593, 145], [651, 145], [651, 159], [593, 159]],\n",
              "  'Phone Na.',\n",
              "  0.28717121481895447),\n",
              " ([[50, 162], [174, 162], [174, 188], [50, 188]],\n",
              "  'customer:',\n",
              "  0.7496504783630371),\n",
              " ([[591, 171], [639, 171], [639, 185], [591, 185]],\n",
              "  'MATIo.',\n",
              "  0.21087785065174103),\n",
              " ([[49, 193], [85, 193], [85, 207], [49, 207]], 'Name', 0.49427059292793274),\n",
              " ([[51, 209], [133, 209], [133, 223], [51, 223]],\n",
              "  'Street Address',\n",
              "  0.5526675581932068),\n",
              " ([[591, 209], [655, 209], [655, 223], [591, 223]],\n",
              "  'Inyoice Io',\n",
              "  0.1196640208363533),\n",
              " ([[51, 223], [153, 223], [153, 239], [51, 239]],\n",
              "  'Citj, ST ZIP Code',\n",
              "  0.1411295384168625),\n",
              " ([[591, 225], [671, 225], [671, 239], [591, 239]],\n",
              "  'Inyoice Date:',\n",
              "  0.15917252004146576),\n",
              " ([[51, 243], [89, 243], [89, 259], [51, 259]], 'E mail', 0.6762641668319702),\n",
              " ([[587, 243], [723, 243], [723, 259], [587, 259]],\n",
              "  'Payment Tems 30 Days',\n",
              "  0.023637846112251282),\n",
              " ([[51, 259], [107, 259], [107, 275], [51, 275]],\n",
              "  'Phone No',\n",
              "  0.5231555700302124),\n",
              " ([[432, 280], [732, 280], [732, 312], [432, 312]],\n",
              "  'Commission Invoice',\n",
              "  0.8380820751190186),\n",
              " ([[277, 341], [343, 341], [343, 355], [277, 355]],\n",
              "  'Price lgut',\n",
              "  0.14292989671230316),\n",
              " ([[363, 341], [419, 341], [419, 355], [363, 355]],\n",
              "  'Price with',\n",
              "  0.20773297548294067),\n",
              " ([[439, 341], [503, 341], [503, 355], [439, 355]],\n",
              "  'Total out',\n",
              "  0.08139141649007797),\n",
              " ([[523, 341], [577, 341], [577, 355], [523, 355]],\n",
              "  'Tatal iith',\n",
              "  0.06291723996400833),\n",
              " ([[599, 341], [669, 341], [669, 355], [599, 355]],\n",
              "  'Commissian',\n",
              "  0.3677827715873718),\n",
              " ([[51, 349], [79, 349], [79, 363], [51, 363]], 'Date', 0.8722339272499084),\n",
              " ([[97, 349], [161, 349], [161, 365], [97, 365]],\n",
              "  'Description',\n",
              "  0.9293482303619385),\n",
              " ([[189, 349], [211, 349], [211, 363], [189, 363]], 'aty', 0.5236209034919739),\n",
              " ([[685, 349], [755, 349], [755, 363], [685, 363]],\n",
              "  'Net Amgunt',\n",
              "  0.23481780290603638),\n",
              " ([[275, 357], [343, 357], [343, 371], [275, 371]],\n",
              "  'commissian',\n",
              "  0.4000590145587921),\n",
              " ([[357, 357], [425, 357], [425, 371], [357, 371]],\n",
              "  'commissian',\n",
              "  0.4279658794403076),\n",
              " ([[437, 357], [503, 357], [503, 371], [437, 371]],\n",
              "  'cammission',\n",
              "  0.5079027414321899),\n",
              " ([[517, 357], [585, 357], [585, 371], [517, 371]],\n",
              "  'cammissian',\n",
              "  0.6372284293174744),\n",
              " ([[611, 357], [657, 357], [657, 371], [611, 371]],\n",
              "  'Amaunt',\n",
              "  0.1881488859653473),\n",
              " ([[49, 385], [89, 385], [89, 399], [49, 399]], '10.6.04', 0.7578627467155457),\n",
              " ([[97, 385], [173, 385], [173, 401], [97, 401]],\n",
              "  'Case ofsoda',\n",
              "  0.563558042049408),\n",
              " ([[189, 385], [211, 385], [211, 401], [189, 401]], '100', 0.3861149251461029),\n",
              " ([[233, 385], [255, 385], [255, 401], [233, 401]], '5.0', 0.921974778175354),\n",
              " ([[311, 385], [345, 385], [345, 401], [311, 401]],\n",
              "  '50.00',\n",
              "  0.5833122730255127),\n",
              " ([[393, 385], [425, 385], [425, 401], [393, 401]],\n",
              "  '52.50',\n",
              "  0.9259960651397705),\n",
              " ([[453, 385], [505, 385], [505, 401], [453, 401]],\n",
              "  '5,000.00',\n",
              "  0.3257612884044647),\n",
              " ([[537, 385], [587, 385], [587, 401], [537, 401]],\n",
              "  '5,250.00',\n",
              "  0.6441503763198853),\n",
              " ([[629, 385], [671, 385], [671, 401], [629, 401]],\n",
              "  '250.00',\n",
              "  0.5571545362472534),\n",
              " ([[707, 385], [757, 385], [757, 401], [707, 401]],\n",
              "  '5,000.00',\n",
              "  0.3789595365524292),\n",
              " ([[231, 411], [257, 411], [257, 427], [231, 427]],\n",
              "  '10.0',\n",
              "  0.7112393975257874),\n",
              " ([[305, 411], [345, 411], [345, 427], [305, 427]],\n",
              "  '1o0.00',\n",
              "  0.07352471351623535),\n",
              " ([[393, 411], [425, 411], [425, 427], [393, 427]], '0.00', 0.205435648560524),\n",
              " ([[453, 413], [505, 413], [505, 427], [453, 427]],\n",
              "  '5,uu0.00',\n",
              "  0.01139026042073965),\n",
              " ([[545, 411], [587, 411], [587, 427], [545, 427]],\n",
              "  '5u0.00',\n",
              "  0.25703340768814087),\n",
              " ([[629, 411], [671, 411], [671, 427], [629, 427]],\n",
              "  '5u0.00',\n",
              "  0.2130228728055954),\n",
              " ([[707, 411], [757, 411], [757, 427], [707, 427]],\n",
              "  '5,000.00',\n",
              "  0.3789595365524292)]"
            ]
          },
          "metadata": {
            "tags": []
          },
          "execution_count": 15
        }
      ]
    },
    {
      "cell_type": "code",
      "metadata": {
        "colab": {
          "base_uri": "https://localhost:8080/",
          "height": 548
        },
        "id": "uoQT2qO_qctz",
        "outputId": "720142ce-8242-4583-83a4-22b8ab623f96"
      },
      "source": [
        "# Draw bounding boxes\n",
        "def draw_boxes(image, bounds, color='red', width=2):\n",
        "    draw = ImageDraw.Draw(image)\n",
        "    for bound in bounds:\n",
        "        p0, p1, p2, p3 = bound[0]\n",
        "        draw.line([*p0, *p1, *p2, *p3, *p0], fill=color, width=width)\n",
        "    return image\n",
        "\n",
        "draw_boxes(img, bounds)"
      ],
      "execution_count": 17,
      "outputs": [
        {
          "output_type": "execute_result",
          "data": {
            "image/png": "[encoded data removed]",
            "text/plain": [
              "<PIL.PngImagePlugin.PngImageFile image mode=RGBA size=820x531 at 0x7F1A7C7A7EF0>"
            ]
          },
          "metadata": {
            "tags": []
          },
          "execution_count": 17
        }
      ]
    },
    {
      "cell_type": "code",
      "metadata": {
        "colab": {
          "base_uri": "https://localhost:8080/"
        },
        "id": "XU0PcZ9lqct2",
        "outputId": "c7543100-0178-48aa-c266-20ac97e5032b"
      },
      "source": [
        "len(bounds)"
      ],
      "execution_count": 18,
      "outputs": [
        {
          "output_type": "execute_result",
          "data": {
            "text/plain": [
              "47"
            ]
          },
          "metadata": {
            "tags": []
          },
          "execution_count": 18
        }
      ]
    },
    {
      "cell_type": "code",
      "metadata": {
        "colab": {
          "base_uri": "https://localhost:8080/"
        },
        "id": "3Om0r2vNqct4",
        "outputId": "82a583be-fa3e-4fce-8965-1637d6fde888"
      },
      "source": [
        "for i in bounds:\n",
        "    print(i[1])"
      ],
      "execution_count": 19,
      "outputs": [
        {
          "output_type": "stream",
          "text": [
            "COMPANY NAME\n",
            "Street Address\n",
            "Citj, ST ZIP Code\n",
            "Email\n",
            "Phone Na.\n",
            "customer:\n",
            "MATIo.\n",
            "Name\n",
            "Street Address\n",
            "Inyoice Io\n",
            "Citj, ST ZIP Code\n",
            "Inyoice Date:\n",
            "E mail\n",
            "Payment Tems 30 Days\n",
            "Phone No\n",
            "Commission Invoice\n",
            "Price lgut\n",
            "Price with\n",
            "Total out\n",
            "Tatal iith\n",
            "Commissian\n",
            "Date\n",
            "Description\n",
            "aty\n",
            "Net Amgunt\n",
            "commissian\n",
            "commissian\n",
            "cammission\n",
            "cammissian\n",
            "Amaunt\n",
            "10.6.04\n",
            "Case ofsoda\n",
            "100\n",
            "5.0\n",
            "50.00\n",
            "52.50\n",
            "5,000.00\n",
            "5,250.00\n",
            "250.00\n",
            "5,000.00\n",
            "10.0\n",
            "1o0.00\n",
            "0.00\n",
            "5,uu0.00\n",
            "5u0.00\n",
            "5u0.00\n",
            "5,000.00\n"
          ],
          "name": "stdout"
        }
      ]
    },
    {
      "cell_type": "code",
      "metadata": {
        "id": "Ga_LjuwAqcuA"
      },
      "source": [
        ""
      ],
      "execution_count": null,
      "outputs": []
    }
  ]
}